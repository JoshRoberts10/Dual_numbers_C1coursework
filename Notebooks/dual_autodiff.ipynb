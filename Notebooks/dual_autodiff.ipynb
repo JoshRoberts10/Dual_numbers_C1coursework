{
 "cells": [
  {
   "cell_type": "markdown",
   "metadata": {},
   "source": [
    "## Example Notebook"
   ]
  },
  {
   "cell_type": "markdown",
   "metadata": {},
   "source": [
    "First import the Dual class from the dual_autodiff package, the Dual class houses all the functionality required to use Dual numbers"
   ]
  },
  {
   "cell_type": "code",
   "execution_count": 22,
   "metadata": {},
   "outputs": [],
   "source": [
    "#import package\n",
    "from dual_autodiff import Dual"
   ]
  },
  {
   "cell_type": "code",
   "execution_count": 26,
   "metadata": {},
   "outputs": [
    {
     "ename": "TypeError",
     "evalue": "invalid object for comparison <class 'str'>",
     "output_type": "error",
     "traceback": [
      "\u001b[1;31m---------------------------------------------------------------------------\u001b[0m",
      "\u001b[1;31mTypeError\u001b[0m                                 Traceback (most recent call last)",
      "Cell \u001b[1;32mIn[26], line 1\u001b[0m\n\u001b[1;32m----> 1\u001b[0m \u001b[38;5;124;43m\"\u001b[39;49m\u001b[38;5;124;43mstring\u001b[39;49m\u001b[38;5;124;43m\"\u001b[39;49m\u001b[43m \u001b[49m\u001b[38;5;241;43m==\u001b[39;49m\u001b[43m \u001b[49m\u001b[43mDual\u001b[49m\u001b[43m(\u001b[49m\u001b[38;5;241;43m1\u001b[39;49m\u001b[43m,\u001b[49m\u001b[38;5;241;43m0\u001b[39;49m\u001b[43m)\u001b[49m\n",
      "File \u001b[1;32mc:\\Users\\josh1\\OneDrive\\Desktop\\C1Coursework\\dual_autodiff\\dual.py:753\u001b[0m, in \u001b[0;36m__eq__\u001b[1;34m(self, other)\u001b[0m\n\u001b[0;32m    743\u001b[0m \u001b[38;5;28;01mdef\u001b[39;00m \u001b[38;5;21m__req__\u001b[39m(\u001b[38;5;28mself\u001b[39m, other):\n\u001b[0;32m    744\u001b[0m \u001b[38;5;250m    \u001b[39m\u001b[38;5;124;03m\"\"\"\u001b[39;00m\n\u001b[0;32m    745\u001b[0m \u001b[38;5;124;03m    Method for evaluating 2 objects, this method is called if the  dual number is on the right of the equality\u001b[39;00m\n\u001b[0;32m    746\u001b[0m \n\u001b[0;32m    747\u001b[0m \u001b[38;5;124;03m    There is some ambiguity when comparing Dual numbers. In this package 2 dual numbers are defined to be equal if both \u001b[39;00m\n\u001b[0;32m    748\u001b[0m \u001b[38;5;124;03m    their real and Dual parts are equal. Moreover a dual number with a zero dual component is considered equal to a scalar\u001b[39;00m\n\u001b[0;32m    749\u001b[0m \u001b[38;5;124;03m    if their real components match.\u001b[39;00m\n\u001b[0;32m    750\u001b[0m \n\u001b[0;32m    751\u001b[0m \u001b[38;5;124;03m    \u001b[39;00m\n\u001b[0;32m    752\u001b[0m \u001b[38;5;124;03m    Parameters\u001b[39;00m\n\u001b[1;32m--> 753\u001b[0m \u001b[38;5;124;03m    ----------\u001b[39;00m\n\u001b[0;32m    754\u001b[0m \u001b[38;5;124;03m    other : int or float\u001b[39;00m\n\u001b[0;32m    755\u001b[0m \u001b[38;5;124;03m        The obejct to be compared to \u001b[39;00m\n\u001b[0;32m    756\u001b[0m \n\u001b[0;32m    757\u001b[0m \u001b[38;5;124;03m    Returns\u001b[39;00m\n\u001b[0;32m    758\u001b[0m \u001b[38;5;124;03m    -------\u001b[39;00m\n\u001b[0;32m    759\u001b[0m \u001b[38;5;124;03m    bool\u001b[39;00m\n\u001b[0;32m    760\u001b[0m \u001b[38;5;124;03m        whether the 2 objects are equal\u001b[39;00m\n\u001b[0;32m    761\u001b[0m \n\u001b[0;32m    762\u001b[0m \n\u001b[0;32m    763\u001b[0m \u001b[38;5;124;03m    Raises\u001b[39;00m\n\u001b[0;32m    764\u001b[0m \u001b[38;5;124;03m    ------\u001b[39;00m\n\u001b[0;32m    765\u001b[0m \u001b[38;5;124;03m    TypeError\u001b[39;00m\n\u001b[0;32m    766\u001b[0m \u001b[38;5;124;03m        If comparing to a non int, float or Dual type\u001b[39;00m\n\u001b[0;32m    767\u001b[0m \n\u001b[0;32m    768\u001b[0m \u001b[38;5;124;03m    Notes\u001b[39;00m\n\u001b[0;32m    769\u001b[0m \u001b[38;5;124;03m    -----\u001b[39;00m\n\u001b[0;32m    770\u001b[0m \u001b[38;5;124;03m    - To account for floating-point precision issues, equality is checked using a tolerance.\u001b[39;00m\n\u001b[0;32m    771\u001b[0m \n\u001b[0;32m    772\u001b[0m \n\u001b[0;32m    773\u001b[0m \u001b[38;5;124;03m    Examples\u001b[39;00m\n\u001b[0;32m    774\u001b[0m \u001b[38;5;124;03m    --------\u001b[39;00m\n\u001b[0;32m    775\u001b[0m \u001b[38;5;124;03m\u001b[39;00m\n\u001b[0;32m    776\u001b[0m \u001b[38;5;124;03m    >>> d1 = Dual(3.0, 0.0)\u001b[39;00m\n\u001b[0;32m    777\u001b[0m \u001b[38;5;124;03m    >>> x = 3\u001b[39;00m\n\u001b[0;32m    778\u001b[0m \u001b[38;5;124;03m    >>> x == d1\u001b[39;00m\n\u001b[0;32m    779\u001b[0m \u001b[38;5;124;03m    True  \u001b[39;00m\n\u001b[0;32m    780\u001b[0m \u001b[38;5;124;03m    \u001b[39;00m\n\u001b[0;32m    781\u001b[0m \u001b[38;5;124;03m    \"\"\"\u001b[39;00m\n\u001b[0;32m    783\u001b[0m     \u001b[38;5;28mprint\u001b[39m(\u001b[38;5;124m\"\u001b[39m\u001b[38;5;124mcalled\u001b[39m\u001b[38;5;124m\"\u001b[39m)\n\u001b[0;32m    785\u001b[0m     \u001b[38;5;66;03m# if comparing to a scaler, converts scaler to dual number with a zero dual component and then calls __eq__ \u001b[39;00m\n",
      "\u001b[1;31mTypeError\u001b[0m: invalid object for comparison <class 'str'>"
     ]
    }
   ],
   "source": [
    "\"string\" == Dual(1,0)"
   ]
  },
  {
   "cell_type": "markdown",
   "metadata": {},
   "source": [
    "Initialise our Dual number object, giving it a real and a dual part.  The real and dual parts may be either integers or floating point numbers"
   ]
  },
  {
   "cell_type": "code",
   "execution_count": 4,
   "metadata": {},
   "outputs": [
    {
     "name": "stdout",
     "output_type": "stream",
     "text": [
      "Dual(real = 1, dual = 2)\n",
      "Dual(real = 3.5, dual = 4.5)\n"
     ]
    }
   ],
   "source": [
    "# Initialising Dual numbers\n",
    "dual_number_1 = Dual(1,2)\n",
    "dual_number_2 = Dual(3.5, 4.5)\n",
    "\n",
    "print(dual_number_1)\n",
    "print(dual_number_2)"
   ]
  },
  {
   "cell_type": "code",
   "execution_count": 5,
   "metadata": {},
   "outputs": [
    {
     "name": "stdout",
     "output_type": "stream",
     "text": [
      "An error occurred:\n",
      "real component must be either a float or an integer\n"
     ]
    }
   ],
   "source": [
    "# Attempting to initialise with a non int or float object will result in error\n",
    "try:\n",
    "    d = Dual(\"string\", 1) \n",
    "except TypeError as e:\n",
    "    print(\"An error occurred:\")\n",
    "    print(e)"
   ]
  },
  {
   "cell_type": "markdown",
   "metadata": {},
   "source": [
    "The dual_autodiff package covers a wide array of operations suitable for scientific computing, such as arithmetic operations, trigonometric operations, logarithms and exponentials. Moreoever the Dual autodiff package handles (where appropriate) cases when a dual number object is being operated with a scalar. In such cases the scalar object is treated as a dual number with a 0 dual part.\n",
    "\n",
    "Formulas for the operations may be seen in the Dual Class Documentation or in the referances provided"
   ]
  },
  {
   "cell_type": "markdown",
   "metadata": {},
   "source": [
    "### Arithemetic operations example"
   ]
  },
  {
   "cell_type": "code",
   "execution_count": 6,
   "metadata": {},
   "outputs": [
    {
     "name": "stdout",
     "output_type": "stream",
     "text": [
      "Dual(real = 4.5, dual = 6.5)\n"
     ]
    }
   ],
   "source": [
    "dual_number_3 = dual_number_1 + dual_number_2\n",
    "print(dual_number_3)"
   ]
  },
  {
   "cell_type": "code",
   "execution_count": 7,
   "metadata": {},
   "outputs": [
    {
     "name": "stdout",
     "output_type": "stream",
     "text": [
      "Dual(real = 3.5, dual = 11.5)\n"
     ]
    }
   ],
   "source": [
    "dual_number_4 = dual_number_1 * dual_number_2\n",
    "print(dual_number_4)"
   ]
  },
  {
   "cell_type": "code",
   "execution_count": 8,
   "metadata": {},
   "outputs": [
    {
     "name": "stdout",
     "output_type": "stream",
     "text": [
      "Dual(real = 0.2857142857142857, dual = 0.20408163265306123)\n"
     ]
    }
   ],
   "source": [
    "dual_number_5 = dual_number_1 /dual_number_2\n",
    "print(dual_number_5)"
   ]
  },
  {
   "cell_type": "code",
   "execution_count": 9,
   "metadata": {},
   "outputs": [
    {
     "name": "stdout",
     "output_type": "stream",
     "text": [
      "Dual(real = 1.0, dual = 7.0)\n"
     ]
    }
   ],
   "source": [
    "dual_number_6 = dual_number_1 ** dual_number_2\n",
    "print(dual_number_6)"
   ]
  },
  {
   "cell_type": "markdown",
   "metadata": {},
   "source": [
    "As mentioned previously operations also work with scalars"
   ]
  },
  {
   "cell_type": "code",
   "execution_count": 10,
   "metadata": {},
   "outputs": [
    {
     "name": "stdout",
     "output_type": "stream",
     "text": [
      "Dual(real = 5.5, dual = 4.5)\n"
     ]
    }
   ],
   "source": [
    "dual_number_7 = 2 + dual_number_2\n",
    "print(dual_number_7)"
   ]
  },
  {
   "cell_type": "code",
   "execution_count": 11,
   "metadata": {},
   "outputs": [
    {
     "name": "stdout",
     "output_type": "stream",
     "text": [
      "Dual(real = 0.5714285714285714, dual = -0.7346938775510204)\n"
     ]
    }
   ],
   "source": [
    "dual_number_8 = 2 / dual_number_2\n",
    "print(dual_number_8)"
   ]
  },
  {
   "cell_type": "code",
   "execution_count": 12,
   "metadata": {},
   "outputs": [
    {
     "name": "stdout",
     "output_type": "stream",
     "text": [
      "Dual(real = 1, dual = 4)\n"
     ]
    }
   ],
   "source": [
    "dual_number_9 = dual_number_1 **2\n",
    "print(dual_number_9)"
   ]
  },
  {
   "cell_type": "markdown",
   "metadata": {},
   "source": [
    "One can also chain together these operations as one would expect of any numerical operators, following pythons standard rules for orders of operations"
   ]
  },
  {
   "cell_type": "code",
   "execution_count": 13,
   "metadata": {},
   "outputs": [
    {
     "name": "stdout",
     "output_type": "stream",
     "text": [
      "Dual(real = 5.785714285714286, dual = -2.295918367346939)\n"
     ]
    }
   ],
   "source": [
    "dual_number_10 = (dual_number_1 + dual_number_2) ** 2 / dual_number_4\n",
    "print(dual_number_10)"
   ]
  },
  {
   "cell_type": "markdown",
   "metadata": {},
   "source": [
    "### Trigonometric functions example"
   ]
  },
  {
   "cell_type": "markdown",
   "metadata": {},
   "source": [
    "Trigonometric functions are also defined for dual numbers and are methods of the dual number instance taking the current instance as the argument to the method"
   ]
  },
  {
   "cell_type": "code",
   "execution_count": 14,
   "metadata": {},
   "outputs": [
    {
     "name": "stdout",
     "output_type": "stream",
     "text": [
      "The sine of Dual(real = 1, dual = 2) is Dual(real = 0.8414709848078965, dual = 1.0806046117362795)\n",
      "The cosine of Dual(real = 1, dual = 2) is Dual(real = 0.5403023058681398, dual = -1.682941969615793)\n",
      "The tangent of Dual(real = 1, dual = 2) is Dual(real = 1.557407724654902, dual = 6.851037641629518)\n"
     ]
    }
   ],
   "source": [
    "# standard trig functions\n",
    "\n",
    "sin = dual_number_1.sin()\n",
    "cos = dual_number_1.cos()\n",
    "tan = dual_number_1.tan()\n",
    "\n",
    "print(\"The sine of {} is {}\".format(dual_number_1, sin))\n",
    "print(\"The cosine of {} is {}\".format(dual_number_1, cos))\n",
    "print(\"The tangent of {} is {}\".format(dual_number_1, tan))"
   ]
  },
  {
   "cell_type": "markdown",
   "metadata": {},
   "source": [
    "These may also be chained, not that as the mathematical functions are actually methods of the dual object the order these operations are apllied when chained together are \"inside out\"\n",
    "\n",
    "Thus if one wants to find \n",
    "\n",
    "$$\n",
    "\\tan(\\cos(\\sin(Dual))), \n",
    "$$\n",
    "\n",
    "One would do the below"
   ]
  },
  {
   "cell_type": "code",
   "execution_count": 15,
   "metadata": {},
   "outputs": [
    {
     "name": "stdout",
     "output_type": "stream",
     "text": [
      "Dual(real = 0.786357394978223, dual = -1.3039512770666613)\n"
     ]
    }
   ],
   "source": [
    "x = dual_number_1.sin().cos().tan()\n",
    "print(x)"
   ]
  },
  {
   "cell_type": "markdown",
   "metadata": {},
   "source": [
    "### Hyperbolic functions example"
   ]
  },
  {
   "cell_type": "markdown",
   "metadata": {},
   "source": [
    "Hyperbolic functions are also defined"
   ]
  },
  {
   "cell_type": "code",
   "execution_count": 16,
   "metadata": {},
   "outputs": [
    {
     "name": "stdout",
     "output_type": "stream",
     "text": [
      "The sine of Dual(real = 1, dual = 2) is Dual(real = 1.1752011936438014, dual = 3.0861612696304874)\n",
      "The cosine of Dual(real = 1, dual = 2) is Dual(real = 1.5430806348152437, dual = 2.3504023872876028)\n",
      "The tangent of Dual(real = 1, dual = 2) is Dual(real = 0.7615941559557649, dual = 0.8399486832280524)\n"
     ]
    }
   ],
   "source": [
    "# standard hypervolic trig functions\n",
    "\n",
    "sinh = dual_number_1.sinh()\n",
    "cosh = dual_number_1.cosh()\n",
    "tanh = dual_number_1.tanh()\n",
    "\n",
    "print(\"The sine of {} is {}\".format(dual_number_1, sinh))\n",
    "print(\"The cosine of {} is {}\".format(dual_number_1, cosh))\n",
    "print(\"The tangent of {} is {}\".format(dual_number_1, tanh))"
   ]
  },
  {
   "cell_type": "markdown",
   "metadata": {},
   "source": [
    "### Exponentials example"
   ]
  },
  {
   "cell_type": "markdown",
   "metadata": {},
   "source": [
    "Natural Logarithms and exponentials are also defined in the Dual class. Akin to other mathematic functions in this module, log and exp are methods of the class and take in the current instance as the argument  "
   ]
  },
  {
   "cell_type": "code",
   "execution_count": 17,
   "metadata": {},
   "outputs": [
    {
     "name": "stdout",
     "output_type": "stream",
     "text": [
      "ln(Dual(real = 1, dual = 2)) = Dual(real = 1.1752011936438014, dual = 3.0861612696304874)\n",
      "exp(Dual(real = 1, dual = 2)) = Dual(real = 1.5430806348152437, dual = 2.3504023872876028)\n"
     ]
    }
   ],
   "source": [
    "ln = dual_number_1.log()\n",
    "exp = dual_number_1.exp()\n",
    "\n",
    "print(\"ln({}) = {}\".format(dual_number_1, sinh))\n",
    "print(\"exp({}) = {}\".format(dual_number_1, cosh))"
   ]
  },
  {
   "cell_type": "markdown",
   "metadata": {},
   "source": [
    "The exponential and logarithm of dual numbers follow what one would expect \n",
    "$$\n",
    "\\ln(\\exp(Dual)) = Dual, \n",
    "$$\n",
    "\n",
    "Please note again the \"inside out\" of chaining methods"
   ]
  },
  {
   "cell_type": "code",
   "execution_count": 18,
   "metadata": {},
   "outputs": [
    {
     "name": "stdout",
     "output_type": "stream",
     "text": [
      "Dual(real = 1.0, dual = 2.0)\n"
     ]
    }
   ],
   "source": [
    "# natural log of an exponential\n",
    "print(dual_number_1.exp().log())\n"
   ]
  },
  {
   "cell_type": "markdown",
   "metadata": {},
   "source": [
    "### Comparison example"
   ]
  },
  {
   "cell_type": "markdown",
   "metadata": {},
   "source": [
    "The comparison operator is defined to be true if two Dual numbers have the same real and the same dual components (withing a small tolerance to account for floating point error)"
   ]
  },
  {
   "cell_type": "code",
   "execution_count": 19,
   "metadata": {},
   "outputs": [
    {
     "name": "stdout",
     "output_type": "stream",
     "text": [
      "True\n"
     ]
    }
   ],
   "source": [
    "dual1 = Dual(1,1)\n",
    "dual2 = Dual(1,1)\n",
    "\n",
    "print(dual1 == dual2)"
   ]
  },
  {
   "cell_type": "markdown",
   "metadata": {},
   "source": [
    "### Differentiation example"
   ]
  },
  {
   "cell_type": "markdown",
   "metadata": {},
   "source": [
    "A key use case of dual numbers is in the case of autodifferentiation. where\n",
    "\n",
    "$$\n",
    "f(a + b\\epsilon) = f(a) + f'(a) \\, b\\epsilon\n",
    "$$\n",
    "\n",
    "Thus by setting $b = 1$ we may compute function and its derivitive evaluated at a, to machine precision\n",
    "\n"
   ]
  },
  {
   "cell_type": "code",
   "execution_count": 20,
   "metadata": {},
   "outputs": [],
   "source": [
    "import numpy as np\n",
    "from matplotlib import pyplot as plt\n",
    "\n",
    "# lets create an example function\n",
    "def func(x):\n",
    "    return x**3\n",
    "\n",
    "# lets use our dual class to evalate this function and its derivitive \n",
    "\n",
    "# set our region we wish to consider\n",
    "x = np.linspace(-2,2,100)\n",
    "\n",
    "# initialising our dual numbers for our range, note we have a 1 dual element as we wish to find the derivitive\n",
    "dual_numbers = [Dual((elem), 1) for elem in x]\n",
    "\n",
    "# entering or dual numbers into the function over our desired range \n",
    "dual_number_outputs = [func(elem) for elem in dual_numbers]\n",
    "\n",
    "# grabbing the real and dual elements of our dual numbers that are outputted from our function \n",
    "real_outputs = [elem.real for elem in dual_number_outputs]\n",
    "dual_outputs = [elem.dual for elem in dual_number_outputs]\n"
   ]
  },
  {
   "cell_type": "code",
   "execution_count": 21,
   "metadata": {},
   "outputs": [
    {
     "data": {
      "image/png": "[encoded data removed]",
      "text/plain": [
       "<Figure size 640x480 with 1 Axes>"
      ]
     },
     "metadata": {},
     "output_type": "display_data"
    }
   ],
   "source": [
    "plt.plot(x, real_outputs, label=\"$x^3$\", linewidth=2)\n",
    "plt.plot(x, dual_outputs, label=\"$\\\\frac{d(x^3)}{dx} = 3x^2$\", linestyle=\"--\", linewidth=2)\n",
    "\n",
    "plt.title(\"Function and derivitive found using dual numbers\", fontsize=16)\n",
    "plt.xlabel(\"x\", fontsize=14)\n",
    "plt.ylabel(\"Value\", fontsize=14)\n",
    "plt.legend(fontsize=12)\n",
    "plt.grid(alpha=0.3)\n",
    "plt.show()"
   ]
  }
 ],
 "metadata": {
  "kernelspec": {
   "display_name": ".venv",
   "language": "python",
   "name": "python3"
  },
  "language_info": {
   "codemirror_mode": {
    "name": "ipython",
    "version": 3
   },
   "file_extension": ".py",
   "mimetype": "text/x-python",
   "name": "python",
   "nbconvert_exporter": "python",
   "pygments_lexer": "ipython3",
   "version": "3.10.0"
  }
 },
 "nbformat": 4,
 "nbformat_minor": 2
}
